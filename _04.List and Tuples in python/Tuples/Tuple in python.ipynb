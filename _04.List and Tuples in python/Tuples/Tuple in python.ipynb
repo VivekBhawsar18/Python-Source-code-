{
 "cells": [
  {
   "cell_type": "code",
   "execution_count": null,
   "id": "66083400",
   "metadata": {},
   "outputs": [],
   "source": [
    "var = ()\n",
    "print(var)"
   ]
  },
  {
   "cell_type": "code",
   "execution_count": null,
   "id": "a8cc9dc2",
   "metadata": {},
   "outputs": [],
   "source": [
    "var = (\"vivek\" , \"siraj\" , \"aniket\")\n",
    "print(var)"
   ]
  },
  {
   "cell_type": "code",
   "execution_count": null,
   "id": "fd84d6a7",
   "metadata": {},
   "outputs": [],
   "source": [
    "var = (1 , 2 , 3)\n",
    "print(var)"
   ]
  },
  {
   "cell_type": "code",
   "execution_count": null,
   "id": "ca527ab5",
   "metadata": {},
   "outputs": [],
   "source": [
    "var = (\"vivek\" , \"siraj\" , \"aniket\",1 , 2 , 3 , 4.98)\n",
    "print(var)"
   ]
  },
  {
   "cell_type": "code",
   "execution_count": null,
   "id": "aa285f75",
   "metadata": {},
   "outputs": [],
   "source": [
    "var = [\"vivek\" , \"siraj\" , \"aniket\",1 , 2 , 3 , 4.98]\n",
    "print(var[2])"
   ]
  },
  {
   "cell_type": "code",
   "execution_count": null,
   "id": "6b49e0c5",
   "metadata": {},
   "outputs": [],
   "source": [
    "var = (\"vivek\" , \"siraj\" , \"aniket\",1 , 2 , 3 , 4.98)\n",
    "var[2] = 2\n",
    "print(var)"
   ]
  },
  {
   "cell_type": "code",
   "execution_count": null,
   "id": "be335aa6",
   "metadata": {},
   "outputs": [],
   "source": [
    "var = (\"vivek\" , \"siraj\" , \"aniket\",1 , 2 , 3 , 4.98)\n",
    "var.insert(2 , 2)\n",
    "print(var)"
   ]
  },
  {
   "cell_type": "code",
   "execution_count": null,
   "id": "4ab2a9fe",
   "metadata": {},
   "outputs": [],
   "source": [
    "var = (2 , 4 , 1 , 8 , 7)\n",
    "var.sort()\n",
    "print(var)"
   ]
  },
  {
   "cell_type": "code",
   "execution_count": null,
   "id": "b3373fb4",
   "metadata": {},
   "outputs": [],
   "source": [
    "var = (2 , 4 , 1 , 8 , 7)\n",
    "var.pop(2)\n",
    "print(var)"
   ]
  },
  {
   "cell_type": "code",
   "execution_count": null,
   "id": "edc6b19a",
   "metadata": {},
   "outputs": [],
   "source": [
    "var = (\"vivek\" , \"siraj\" , \"aniket\",1 , 2 , 3 , 4.98)\n",
    "var.remove(\"vivek\")\n",
    "print(var)"
   ]
  },
  {
   "cell_type": "code",
   "execution_count": null,
   "id": "24f93b19",
   "metadata": {},
   "outputs": [],
   "source": []
  }
 ],
 "metadata": {
  "kernelspec": {
   "display_name": "Python 3 (ipykernel)",
   "language": "python",
   "name": "python3"
  },
  "language_info": {
   "codemirror_mode": {
    "name": "ipython",
    "version": 3
   },
   "file_extension": ".py",
   "mimetype": "text/x-python",
   "name": "python",
   "nbconvert_exporter": "python",
   "pygments_lexer": "ipython3",
   "version": "3.8.0"
  }
 },
 "nbformat": 4,
 "nbformat_minor": 5
}
