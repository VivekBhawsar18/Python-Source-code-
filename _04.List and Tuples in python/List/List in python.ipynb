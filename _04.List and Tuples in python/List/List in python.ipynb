{
 "cells": [
  {
   "cell_type": "code",
   "execution_count": null,
   "id": "d16b37c7",
   "metadata": {},
   "outputs": [],
   "source": [
    "var = []\n",
    "print(var)"
   ]
  },
  {
   "cell_type": "code",
   "execution_count": null,
   "id": "790e18cb",
   "metadata": {},
   "outputs": [],
   "source": [
    "var = [\"vivek\" , \"siraj\" , \"aniket\"]\n",
    "print(var)"
   ]
  },
  {
   "cell_type": "code",
   "execution_count": null,
   "id": "4b2a63b1",
   "metadata": {},
   "outputs": [],
   "source": [
    "var = [1 , 2 , 3]\n",
    "print(var)"
   ]
  },
  {
   "cell_type": "code",
   "execution_count": null,
   "id": "d8512512",
   "metadata": {},
   "outputs": [],
   "source": [
    "var = [\"vivek\" , \"siraj\" , \"aniket\",1 , 2 , 3 , 4.98]\n",
    "print(var)"
   ]
  },
  {
   "cell_type": "code",
   "execution_count": null,
   "id": "d5cc0bfc",
   "metadata": {},
   "outputs": [],
   "source": [
    "var = [\"vivek\" , \"siraj\" , \"aniket\",1 , 2 , 3 , 4.98]\n",
    "print(var[2])"
   ]
  },
  {
   "cell_type": "code",
   "execution_count": null,
   "id": "26bb6d47",
   "metadata": {},
   "outputs": [],
   "source": [
    "var = [\"vivek\" , \"siraj\" , \"aniket\",1 , 2 , 3 , 4.98]\n",
    "var[2] = 2\n",
    "print(var)"
   ]
  },
  {
   "cell_type": "code",
   "execution_count": null,
   "id": "1720fffe",
   "metadata": {},
   "outputs": [],
   "source": [
    "var = [2 , 4 , 1 , 8 , 7]\n",
    "var.sort()\n",
    "print(var)"
   ]
  },
  {
   "cell_type": "code",
   "execution_count": null,
   "id": "d6b72b77",
   "metadata": {},
   "outputs": [],
   "source": [
    "var = [\"vivek\" , \"siraj\" , \"aniket\",1 , 2 , 3 , 4.98]\n",
    "var.remove(\"vivek\")\n",
    "print(var)"
   ]
  },
  {
   "cell_type": "markdown",
   "id": "9bb28a52",
   "metadata": {},
   "source": [
    "# Practice set"
   ]
  },
  {
   "cell_type": "markdown",
   "id": "ccdd064d",
   "metadata": {},
   "source": [
    "# Q.1 "
   ]
  },
  {
   "cell_type": "code",
   "execution_count": null,
   "id": "b3992a96",
   "metadata": {},
   "outputs": [],
   "source": [
    "f1 = input(\"Enter fruit : \")\n",
    "f2 = input(\"Enter fruit : \")\n",
    "f3 = input(\"Enter fruit : \")\n",
    "f4 = input(\"Enter fruit : \")\n",
    "f5 = input(\"Enter fruit : \")\n",
    "f6 = input(\"Enter fruit : \") \n",
    "f7 = input(\"Enter fruit : \")\n",
    "\n",
    "print([f1 , f2 , f3 , f4,  f5,  f6,  f7])"
   ]
  },
  {
   "cell_type": "code",
   "execution_count": null,
   "id": "0fe3faf2",
   "metadata": {},
   "outputs": [],
   "source": [
    "f1 , f2 , f3 , f4 , f5 , f6 , f7 = int(input().split()) \n",
    "print([f1 , f2 , f3 , f4,  f5,  f6,  f7])"
   ]
  },
  {
   "cell_type": "markdown",
   "id": "90ebfbed",
   "metadata": {},
   "source": [
    "# Q.2"
   ]
  },
  {
   "cell_type": "code",
   "execution_count": null,
   "id": "aa4917c6",
   "metadata": {},
   "outputs": [],
   "source": [
    "# f1 = input(\"Enter fruit : \")\n",
    "f2 = input(\"Enter fruit : \")\n",
    "f3 = input(\"Enter fruit : \")\n",
    "f4 = input(\"Enter fruit : \")\n",
    "f5 = input(\"Enter fruit : \")\n",
    "f6 = input(\"Enter fruit : \") \n",
    "f7 = input(\"Enter fruit : \")\n",
    "\n",
    "print([f1 , f2 , f3 , f4,  f5,  f6,  f7])\n",
    "a = [f1 , f2 , f3 , f4,  f5,  f6,  f7]\n",
    "\n",
    "a.sort()\n",
    "print(a)"
   ]
  },
  {
   "cell_type": "markdown",
   "id": "03c91380",
   "metadata": {},
   "source": [
    "# Q.3"
   ]
  },
  {
   "cell_type": "code",
   "execution_count": 3,
   "id": "195a2d35",
   "metadata": {},
   "outputs": [
    {
     "ename": "TypeError",
     "evalue": "'tuple' object does not support item assignment",
     "output_type": "error",
     "traceback": [
      "\u001b[1;31m---------------------------------------------------------------------------\u001b[0m",
      "\u001b[1;31mTypeError\u001b[0m                                 Traceback (most recent call last)",
      "Input \u001b[1;32mIn [3]\u001b[0m, in \u001b[0;36m<cell line: 2>\u001b[1;34m()\u001b[0m\n\u001b[0;32m      1\u001b[0m a \u001b[38;5;241m=\u001b[39m (\u001b[38;5;241m1\u001b[39m ,\u001b[38;5;241m2\u001b[39m)\n\u001b[1;32m----> 2\u001b[0m a[\u001b[38;5;241m0\u001b[39m] \u001b[38;5;241m=\u001b[39m \u001b[38;5;241m2\u001b[39m\n\u001b[0;32m      3\u001b[0m \u001b[38;5;28mprint\u001b[39m(a)\n",
      "\u001b[1;31mTypeError\u001b[0m: 'tuple' object does not support item assignment"
     ]
    }
   ],
   "source": [
    "a = (1 ,2)\n",
    "a[0] = 2\n",
    "print(a)"
   ]
  },
  {
   "cell_type": "markdown",
   "id": "7051cf1f",
   "metadata": {},
   "source": [
    "# Q.4"
   ]
  },
  {
   "cell_type": "code",
   "execution_count": 4,
   "id": "8bea2b17",
   "metadata": {},
   "outputs": [
    {
     "name": "stdout",
     "output_type": "stream",
     "text": [
      "20\n"
     ]
    }
   ],
   "source": [
    "list = [2 , 5 , 6 , 7]\n",
    "print(sum(list))"
   ]
  },
  {
   "cell_type": "markdown",
   "id": "febda79b",
   "metadata": {},
   "source": [
    "# Q.5"
   ]
  },
  {
   "cell_type": "code",
   "execution_count": 7,
   "id": "cada54e6",
   "metadata": {},
   "outputs": [
    {
     "name": "stdout",
     "output_type": "stream",
     "text": [
      "3\n"
     ]
    }
   ],
   "source": [
    "a = ( 7, 0 , 8 , 0 ,0, 9)\n",
    "print(a.count(0))"
   ]
  },
  {
   "cell_type": "code",
   "execution_count": null,
   "id": "4247de9a",
   "metadata": {},
   "outputs": [],
   "source": []
  }
 ],
 "metadata": {
  "kernelspec": {
   "display_name": "Python 3 (ipykernel)",
   "language": "python",
   "name": "python3"
  },
  "language_info": {
   "codemirror_mode": {
    "name": "ipython",
    "version": 3
   },
   "file_extension": ".py",
   "mimetype": "text/x-python",
   "name": "python",
   "nbconvert_exporter": "python",
   "pygments_lexer": "ipython3",
   "version": "3.8.0"
  }
 },
 "nbformat": 4,
 "nbformat_minor": 5
}
