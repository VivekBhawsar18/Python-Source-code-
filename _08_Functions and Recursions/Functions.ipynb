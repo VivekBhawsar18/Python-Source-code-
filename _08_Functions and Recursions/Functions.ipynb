{
 "cells": [
  {
   "cell_type": "code",
   "execution_count": null,
   "id": "692b579f",
   "metadata": {},
   "outputs": [],
   "source": [
    "def func1():\n",
    "    print(\"Hello World..!\")\n",
    "    \n",
    "func1()"
   ]
  },
  {
   "cell_type": "code",
   "execution_count": 14,
   "id": "8b35e3eb",
   "metadata": {},
   "outputs": [
    {
     "name": "stdout",
     "output_type": "stream",
     "text": [
      "Enter No 1 : 4\n",
      "Enter No 2 : 5\n"
     ]
    },
    {
     "data": {
      "text/plain": [
       "20"
      ]
     },
     "execution_count": 14,
     "metadata": {},
     "output_type": "execute_result"
    }
   ],
   "source": [
    "def calc(a , b):\n",
    "    return(a*b)\n",
    "\n",
    "    \n",
    "a = int(input(\"Enter No 1 : \"))\n",
    "b = int(input(\"Enter No 2 : \"))\n",
    "calc(a , b)"
   ]
  },
  {
   "cell_type": "code",
   "execution_count": 11,
   "id": "10b86b7d",
   "metadata": {},
   "outputs": [
    {
     "name": "stdout",
     "output_type": "stream",
     "text": [
      "Enter No 1 : 4\n",
      "Enter No 2 : 5\n",
      "20\n"
     ]
    }
   ],
   "source": [
    "def calc():\n",
    "    print(a*b)\n",
    "\n",
    "    \n",
    "a = int(input(\"Enter No 1 : \"))\n",
    "b = int(input(\"Enter No 2 : \"))\n",
    "calc()"
   ]
  },
  {
   "cell_type": "code",
   "execution_count": 15,
   "id": "f053853e",
   "metadata": {},
   "outputs": [
    {
     "name": "stdout",
     "output_type": "stream",
     "text": [
      "Enter No 1 : 4\n",
      "Enter No 2 : 5\n",
      "20\n"
     ]
    }
   ],
   "source": [
    "def calc(a , b):\n",
    "    return(a*b)\n",
    "\n",
    "    \n",
    "a = int(input(\"Enter No 1 : \"))\n",
    "b = int(input(\"Enter No 2 : \"))\n",
    "print(calc(a , b))"
   ]
  },
  {
   "cell_type": "code",
   "execution_count": 20,
   "id": "58a77885",
   "metadata": {},
   "outputs": [
    {
     "name": "stdout",
     "output_type": "stream",
     "text": [
      "20\n",
      "10\n",
      "25\n",
      "42\n"
     ]
    }
   ],
   "source": [
    "def calc(a , b):\n",
    "    return(a*b)\n",
    "\n",
    "\n",
    "print(calc(4 , 5))\n",
    "print(calc(2 , 5))\n",
    "print(calc(5 , 5))\n",
    "print(calc(6 , 7))"
   ]
  },
  {
   "cell_type": "code",
   "execution_count": 24,
   "id": "88b02ad9",
   "metadata": {},
   "outputs": [
    {
     "name": "stdout",
     "output_type": "stream",
     "text": [
      "20 8\n"
     ]
    }
   ],
   "source": [
    "def calc(a , b):\n",
    "    return(a*b)\n",
    "\n",
    "a = calc(4 , 5)\n",
    "b = calc(2 , 4)\n",
    "print(a , b)\n"
   ]
  },
  {
   "cell_type": "code",
   "execution_count": 25,
   "id": "38c9d29c",
   "metadata": {},
   "outputs": [
    {
     "name": "stdout",
     "output_type": "stream",
     "text": [
      "Enter No 1 :4\n",
      "Enter No 2 :5\n",
      "20\n"
     ]
    }
   ],
   "source": [
    "def calc(a , b):\n",
    "    return(a*b)\n",
    "\n",
    "\n",
    "x = int(input(\"Enter No 1 :\"))\n",
    "z = int(input(\"Enter No 2 :\"))\n",
    "\n",
    "a = calc(x , z)\n",
    "print(a)"
   ]
  },
  {
   "cell_type": "code",
   "execution_count": 27,
   "id": "3c678524",
   "metadata": {},
   "outputs": [
    {
     "ename": "SyntaxError",
     "evalue": "invalid syntax (4052763839.py, line 1)",
     "output_type": "error",
     "traceback": [
      "\u001b[1;36m  Input \u001b[1;32mIn [27]\u001b[1;36m\u001b[0m\n\u001b[1;33m    def calc(4 , 5):\u001b[0m\n\u001b[1;37m             ^\u001b[0m\n\u001b[1;31mSyntaxError\u001b[0m\u001b[1;31m:\u001b[0m invalid syntax\n"
     ]
    }
   ],
   "source": [
    "def calc(4 , 5):\n",
    "    return calc(a*b)\n"
   ]
  },
  {
   "cell_type": "markdown",
   "id": "97e5c2f2",
   "metadata": {},
   "source": [
    "# Calculator"
   ]
  },
  {
   "cell_type": "code",
   "execution_count": 29,
   "id": "b4aa8f9d",
   "metadata": {},
   "outputs": [
    {
     "name": "stdout",
     "output_type": "stream",
     "text": [
      "Enter No 1 :30\n",
      "Enter No 2 :20\n",
      "Addition of your input is : 50\n",
      "\n",
      "Multiplication of your input is : 600\n",
      "\n",
      "Substraction of your input is : 10\n",
      "\n",
      "Division of your input is : 1.5\n",
      "\n"
     ]
    }
   ],
   "source": [
    "def add(a , b):\n",
    "    return (a + b)\n",
    "\n",
    "def mul(a ,  b):\n",
    "     return (a * b)\n",
    "\n",
    "def sub(a , b):\n",
    "     return (a - b)\n",
    "\n",
    "def div(a , b):\n",
    "    return (a / b)\n",
    "\n",
    "x = int(input(\"Enter No 1 :\"))\n",
    "z = int(input(\"Enter No 2 :\"))\n",
    "\n",
    "g = print(f\"Addition of your input is : {add(x , z)}\\n\")\n",
    "\n",
    "h = print(f\"Multiplication of your input is : {mul(x ,  z)}\\n\")\n",
    "\n",
    "j = print(f\"Substraction of your input is : {sub(x , z)}\\n\")\n",
    "\n",
    "k = print(f\"Division of your input is : {div(x , z)}\\n\")"
   ]
  },
  {
   "cell_type": "code",
   "execution_count": null,
   "id": "9d7459e9",
   "metadata": {},
   "outputs": [],
   "source": []
  }
 ],
 "metadata": {
  "kernelspec": {
   "display_name": "Python 3 (ipykernel)",
   "language": "python",
   "name": "python3"
  },
  "language_info": {
   "codemirror_mode": {
    "name": "ipython",
    "version": 3
   },
   "file_extension": ".py",
   "mimetype": "text/x-python",
   "name": "python",
   "nbconvert_exporter": "python",
   "pygments_lexer": "ipython3",
   "version": "3.8.0"
  }
 },
 "nbformat": 4,
 "nbformat_minor": 5
}
