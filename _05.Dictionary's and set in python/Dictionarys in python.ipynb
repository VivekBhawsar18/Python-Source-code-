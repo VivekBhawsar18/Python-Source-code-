{
 "cells": [
  {
   "cell_type": "code",
   "execution_count": 7,
   "id": "b0e2926b",
   "metadata": {},
   "outputs": [
    {
     "name": "stdout",
     "output_type": "stream",
     "text": [
      "{'key': 'values', 'name': 'vivek', 'name1': 'vivek'}\n"
     ]
    }
   ],
   "source": [
    "dict = {\n",
    "    \"key\" : \"values\", \n",
    "    \"name\" : \"vivek\",\n",
    "    \"name1\" : \"vivek\"\n",
    "}\n",
    "    \n",
    "\n",
    "print(dict)"
   ]
  },
  {
   "cell_type": "code",
   "execution_count": 9,
   "id": "a1a2827d",
   "metadata": {},
   "outputs": [
    {
     "name": "stdout",
     "output_type": "stream",
     "text": [
      "dict_items([('key', 'values'), ('name', 'vivek'), ('name1', 'vivek')])\n"
     ]
    }
   ],
   "source": [
    "dict = {\n",
    "    \"key\" : \"values\", \n",
    "    \"name\" : \"vivek\",\n",
    "    \"name1\" : \"vivek\"\n",
    "}\n",
    "   \n",
    "print(dict.items())"
   ]
  },
  {
   "cell_type": "code",
   "execution_count": 10,
   "id": "b66a3626",
   "metadata": {},
   "outputs": [
    {
     "name": "stdout",
     "output_type": "stream",
     "text": [
      "dict_keys(['key', 'name', 'name1'])\n"
     ]
    }
   ],
   "source": [
    "dict = {\n",
    "    \"key\" : \"values\", \n",
    "    \"name\" : \"vivek\",\n",
    "    \"name1\" : \"vivek\"\n",
    "}\n",
    "   \n",
    "print(dict.keys())"
   ]
  },
  {
   "cell_type": "code",
   "execution_count": 12,
   "id": "3e7b5575",
   "metadata": {},
   "outputs": [
    {
     "name": "stdout",
     "output_type": "stream",
     "text": [
      "dict_values(['values', 'vivek', 'vivek'])\n"
     ]
    }
   ],
   "source": [
    "dict = {\n",
    "    \"key\" : \"values\", \n",
    "    \"name\" : \"vivek\",\n",
    "    \"name1\" : \"vivek\"\n",
    "}\n",
    "   \n",
    "print(dict.values())"
   ]
  },
  {
   "cell_type": "code",
   "execution_count": 15,
   "id": "63ea729b",
   "metadata": {},
   "outputs": [
    {
     "name": "stdout",
     "output_type": "stream",
     "text": [
      "None\n"
     ]
    }
   ],
   "source": [
    "dict = {\n",
    "    \"key\" : \"values\", \n",
    "    \"name\" : \"vivek\",\n",
    "    \"name1\" : \"vivek\"\n",
    "}\n",
    "   \n",
    "print(dict.get(\"vivek\"))"
   ]
  },
  {
   "cell_type": "code",
   "execution_count": null,
   "id": "5aed7c64",
   "metadata": {},
   "outputs": [],
   "source": []
  }
 ],
 "metadata": {
  "kernelspec": {
   "display_name": "Python 3 (ipykernel)",
   "language": "python",
   "name": "python3"
  },
  "language_info": {
   "codemirror_mode": {
    "name": "ipython",
    "version": 3
   },
   "file_extension": ".py",
   "mimetype": "text/x-python",
   "name": "python",
   "nbconvert_exporter": "python",
   "pygments_lexer": "ipython3",
   "version": "3.8.0"
  }
 },
 "nbformat": 4,
 "nbformat_minor": 5
}
