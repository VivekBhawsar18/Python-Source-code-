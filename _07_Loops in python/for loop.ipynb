{
 "cells": [
  {
   "cell_type": "code",
   "execution_count": 4,
   "id": "2e5bbcec",
   "metadata": {},
   "outputs": [
    {
     "name": "stdout",
     "output_type": "stream",
     "text": [
      "mango\n",
      "banana\n",
      "jackfruit\n",
      "dragonFruit\n"
     ]
    }
   ],
   "source": [
    "f1 = [ \"mango\" , \"banana\" , \"jackfruit\"  , \"dragonFruit\"]\n",
    "for z in f1 :\n",
    "    print(z)\n",
    "    "
   ]
  },
  {
   "cell_type": "code",
   "execution_count": 7,
   "id": "159eb2fa",
   "metadata": {},
   "outputs": [
    {
     "name": "stdout",
     "output_type": "stream",
     "text": [
      "dragonFruit\n",
      "dragonFruit\n"
     ]
    }
   ],
   "source": [
    "f1 = [ \"mango\" , \"banana\" , \"jackfruit\"  , \"dragonFruit\"]\n",
    "for f1 in range(0 ,2) :\n",
    "    print(z)"
   ]
  },
  {
   "cell_type": "code",
   "execution_count": 8,
   "id": "7084c7d3",
   "metadata": {},
   "outputs": [
    {
     "name": "stdout",
     "output_type": "stream",
     "text": [
      "mango\n",
      "banana\n",
      "jackfruit\n"
     ]
    }
   ],
   "source": [
    "f1 = [ \"mango\" , \"banana\" , \"jackfruit\"  , \"dragonFruit\"]\n",
    "for z in f1 :\n",
    "    print(z)\n",
    "    if z == \"jackfruit\" :\n",
    "        break"
   ]
  },
  {
   "cell_type": "code",
   "execution_count": null,
   "id": "080a4fc7",
   "metadata": {},
   "outputs": [],
   "source": []
  }
 ],
 "metadata": {
  "kernelspec": {
   "display_name": "Python 3 (ipykernel)",
   "language": "python",
   "name": "python3"
  },
  "language_info": {
   "codemirror_mode": {
    "name": "ipython",
    "version": 3
   },
   "file_extension": ".py",
   "mimetype": "text/x-python",
   "name": "python",
   "nbconvert_exporter": "python",
   "pygments_lexer": "ipython3",
   "version": "3.8.0"
  }
 },
 "nbformat": 4,
 "nbformat_minor": 5
}
