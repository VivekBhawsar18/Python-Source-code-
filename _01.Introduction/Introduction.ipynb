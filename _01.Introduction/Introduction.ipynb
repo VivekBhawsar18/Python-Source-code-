{
 "cells": [
  {
   "cell_type": "code",
   "execution_count": null,
   "id": "293c7d11",
   "metadata": {},
   "outputs": [],
   "source": []
  },
  {
   "cell_type": "code",
   "execution_count": null,
   "id": "62353181",
   "metadata": {},
   "outputs": [],
   "source": [
    "print(\"hello world!\")"
   ]
  },
  {
   "cell_type": "code",
   "execution_count": null,
   "id": "46086323",
   "metadata": {},
   "outputs": [],
   "source": [
    "import os"
   ]
  },
  {
   "cell_type": "code",
   "execution_count": null,
   "id": "126fb6d7",
   "metadata": {},
   "outputs": [],
   "source": [
    "aditya = 20"
   ]
  },
  {
   "cell_type": "code",
   "execution_count": null,
   "id": "88aad6da",
   "metadata": {},
   "outputs": [],
   "source": [
    "print(aditya)"
   ]
  },
  {
   "cell_type": "code",
   "execution_count": null,
   "id": "d7534038",
   "metadata": {},
   "outputs": [],
   "source": [
    "aditya = \"hello\""
   ]
  },
  {
   "cell_type": "code",
   "execution_count": null,
   "id": "4c3951ce",
   "metadata": {},
   "outputs": [],
   "source": [
    "print(aditya)"
   ]
  },
  {
   "cell_type": "code",
   "execution_count": null,
   "id": "da77819c",
   "metadata": {},
   "outputs": [],
   "source": [
    "Name  = input(\"Enter your name : \")\n",
    "Age   = input(\"Enter your age : \")\n",
    "Place = input(\"Enter your place : \")\n",
    "print(Name,Age,Place)"
   ]
  }
 ],
 "metadata": {
  "kernelspec": {
   "display_name": "Python 3 (ipykernel)",
   "language": "python",
   "name": "python3"
  },
  "language_info": {
   "codemirror_mode": {
    "name": "ipython",
    "version": 3
   },
   "file_extension": ".py",
   "mimetype": "text/x-python",
   "name": "python",
   "nbconvert_exporter": "python",
   "pygments_lexer": "ipython3",
   "version": "3.8.0"
  }
 },
 "nbformat": 4,
 "nbformat_minor": 5
}
