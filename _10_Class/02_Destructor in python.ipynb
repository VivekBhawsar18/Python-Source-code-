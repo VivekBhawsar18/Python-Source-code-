{
 "cells": [
  {
   "cell_type": "code",
   "execution_count": 15,
   "id": "501dbd7d",
   "metadata": {},
   "outputs": [
    {
     "name": "stdout",
     "output_type": "stream",
     "text": [
      "Class Employee created\n",
      "Destructor called and , Employee deleted\n"
     ]
    }
   ],
   "source": [
    "class Employee:\n",
    "    \n",
    "    def __init__(fgh):\n",
    "        print(\"Class Employee created\")\n",
    "    \n",
    "    def __del__(fgh):\n",
    "        print(\"Destructor called and , Employee deleted\")\n",
    "\n",
    "    \n",
    "obj1 = Employee()\n",
    "del obj1"
   ]
  },
  {
   "cell_type": "code",
   "execution_count": 25,
   "id": "08d05dd3",
   "metadata": {},
   "outputs": [
    {
     "name": "stdout",
     "output_type": "stream",
     "text": [
      "Destructor called and , object deleted\n",
      "Destructor called and , object deleted\n",
      "Roger details\n",
      "\n",
      "Name is :  dog\n",
      "Breed is : pug\n",
      "Color is : brown\n",
      "buzo details\n",
      "\n",
      "Name is :  dog\n",
      "Breed is : pug\n",
      "Color is : green\n",
      "Destructor called and , object deleted\n",
      "Roger details\n",
      "\n"
     ]
    },
    {
     "ename": "NameError",
     "evalue": "name 'roger' is not defined",
     "output_type": "error",
     "traceback": [
      "\u001b[1;31m---------------------------------------------------------------------------\u001b[0m",
      "\u001b[1;31mNameError\u001b[0m                                 Traceback (most recent call last)",
      "Input \u001b[1;32mIn [25]\u001b[0m, in \u001b[0;36m<cell line: 30>\u001b[1;34m()\u001b[0m\n\u001b[0;32m     28\u001b[0m \u001b[38;5;28;01mdel\u001b[39;00m roger\n\u001b[0;32m     29\u001b[0m \u001b[38;5;28mprint\u001b[39m(\u001b[38;5;124m\"\u001b[39m\u001b[38;5;124mRoger details\u001b[39m\u001b[38;5;130;01m\\n\u001b[39;00m\u001b[38;5;124m\"\u001b[39m)\n\u001b[1;32m---> 30\u001b[0m \u001b[38;5;28mprint\u001b[39m(\u001b[38;5;124m\"\u001b[39m\u001b[38;5;124mName is : \u001b[39m\u001b[38;5;124m\"\u001b[39m , \u001b[43mroger\u001b[49m\u001b[38;5;241m.\u001b[39manimal)\n\u001b[0;32m     31\u001b[0m \u001b[38;5;28mprint\u001b[39m(\u001b[38;5;124m\"\u001b[39m\u001b[38;5;124mBreed is :\u001b[39m\u001b[38;5;124m\"\u001b[39m , roger\u001b[38;5;241m.\u001b[39mbreed)\n\u001b[0;32m     32\u001b[0m \u001b[38;5;28mprint\u001b[39m(\u001b[38;5;124m\"\u001b[39m\u001b[38;5;124mColor is :\u001b[39m\u001b[38;5;124m\"\u001b[39m , roger\u001b[38;5;241m.\u001b[39mcolor , end\u001b[38;5;241m=\u001b[39m\u001b[38;5;124m\"\u001b[39m\u001b[38;5;130;01m\\n\u001b[39;00m\u001b[38;5;124m\"\u001b[39m)\n",
      "\u001b[1;31mNameError\u001b[0m: name 'roger' is not defined"
     ]
    }
   ],
   "source": [
    "class dog :\n",
    "\n",
    "    #class variables\n",
    "    animal = \"dog\"\n",
    "    \n",
    "    def __init__(xyz ,breed , color):   \n",
    "        # isntance variables\n",
    "        xyz.breed = breed \n",
    "        xyz.color = color    \n",
    "        \n",
    "    def __del__(xyz):\n",
    "        print(\"Destructor called and , object deleted\")\n",
    "\n",
    "\n",
    "roger =  dog(\"pug\"  , \"brown\")\n",
    "buzo  =  dog(\"pug\"  , \"green\")\n",
    "\n",
    "print(\"Roger details\\n\")\n",
    "print(\"Name is : \" , roger.animal)\n",
    "print(\"Breed is :\" , roger.breed)\n",
    "print(\"Color is :\" , roger.color , end=\"\\n\")\n",
    "\n",
    "print(\"buzo details\\n\")\n",
    "print(\"Name is : \" ,  buzo.animal)\n",
    "print(\"Breed is :\" , buzo.breed)\n",
    "print(\"Color is :\" , buzo.color)\n",
    "\n",
    "del roger\n",
    "print(\"Roger details\\n\")\n",
    "print(\"Name is : \" , roger.animal)\n",
    "print(\"Breed is :\" , roger.breed)\n",
    "print(\"Color is :\" , roger.color , end=\"\\n\")\n"
   ]
  },
  {
   "cell_type": "code",
   "execution_count": 30,
   "id": "c9f6ea4b",
   "metadata": {},
   "outputs": [
    {
     "name": "stdout",
     "output_type": "stream",
     "text": [
      "Calling Create_obj function ....\n",
      "Creating object\n",
      "Class Employee created\n",
      "Function end's and object created\n",
      "Destructor called and , Employee deleted\n",
      "Destructor called and , Employee deleted\n"
     ]
    }
   ],
   "source": [
    "class Employee:\n",
    "    \n",
    "    def __init__(self):\n",
    "        print(\"Class Employee created\")\n",
    "    \n",
    "    def __del__(self):\n",
    "        print(\"Destructor called and , Employee deleted\")\n",
    "\n",
    "        \n",
    "def Create_obj():  \n",
    "    print(\"Creating object\")\n",
    "    obj1 = Employee()\n",
    "    print(\"Function end's and object created\")\n",
    "    return obj1\n",
    "\n",
    "print(\"Calling Create_obj function ....\")\n",
    "obj1 = Create_obj()\n",
    "\n",
    "del obj1"
   ]
  },
  {
   "cell_type": "code",
   "execution_count": null,
   "id": "504fceef",
   "metadata": {},
   "outputs": [],
   "source": []
  }
 ],
 "metadata": {
  "kernelspec": {
   "display_name": "Python 3 (ipykernel)",
   "language": "python",
   "name": "python3"
  },
  "language_info": {
   "codemirror_mode": {
    "name": "ipython",
    "version": 3
   },
   "file_extension": ".py",
   "mimetype": "text/x-python",
   "name": "python",
   "nbconvert_exporter": "python",
   "pygments_lexer": "ipython3",
   "version": "3.8.0"
  }
 },
 "nbformat": 4,
 "nbformat_minor": 5
}
