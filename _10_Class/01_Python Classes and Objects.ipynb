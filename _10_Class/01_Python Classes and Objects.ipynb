{
 "cells": [
  {
   "cell_type": "code",
   "execution_count": 5,
   "id": "d75ecdbe",
   "metadata": {},
   "outputs": [],
   "source": [
    "class dog :\n",
    "    pass"
   ]
  },
  {
   "cell_type": "code",
   "execution_count": 14,
   "id": "8e49e65f",
   "metadata": {},
   "outputs": [
    {
     "name": "stdout",
     "output_type": "stream",
     "text": [
      "mammel\n",
      "dog\n",
      "i am a mammel\n",
      "i am a dog\n"
     ]
    }
   ],
   "source": [
    "class dog :\n",
    "    atrr1 = \"mammel\"\n",
    "    atrr2 = \"dog\"\n",
    "    \n",
    "    def fun(self):\n",
    "        print(\"i am a\" ,self.atrr1)\n",
    "        print(\"i am a\" ,self.atrr2)\n",
    "\n",
    "roger = dog()\n",
    "print(roger.atrr1)\n",
    "print(roger.atrr2)\n",
    "roger.fun()"
   ]
  },
  {
   "cell_type": "code",
   "execution_count": 15,
   "id": "3c0c6a69",
   "metadata": {},
   "outputs": [
    {
     "name": "stdout",
     "output_type": "stream",
     "text": [
      "Hello my name is  Vivek\n"
     ]
    }
   ],
   "source": [
    "class person :\n",
    "\n",
    "    def __init__(abc , name):\n",
    "        abc.name = name \n",
    "       \n",
    "    \n",
    "    def fun(abc):\n",
    "        print(\"Hello my name is \" ,abc.name)\n",
    "\n",
    "p = person(\"Vivek\")\n",
    "p.fun()"
   ]
  },
  {
   "cell_type": "code",
   "execution_count": 25,
   "id": "0fd2d7cf",
   "metadata": {},
   "outputs": [
    {
     "name": "stdout",
     "output_type": "stream",
     "text": [
      "Roger details\n",
      "\n",
      "Name is :  dog\n",
      "Breed is : pug\n",
      "Color is : brown\n",
      "buzo details\n",
      "\n",
      "Name is :  dog\n",
      "Breed is : pug\n",
      "Color is : green\n"
     ]
    }
   ],
   "source": [
    "class dog :\n",
    "\n",
    "    #class variables\n",
    "    animal = \"dog\"\n",
    "    \n",
    "    def __init__(xyz ,breed , color):   \n",
    "        # isntance variables\n",
    "        xyz.breed = breed \n",
    "        xyz.color = color    \n",
    "\n",
    "\n",
    "roger =  dog(\"pug\"  , \"brown\")\n",
    "buzo  =  dog(\"pug\"  , \"green\")\n",
    "\n",
    "print(\"Roger details\\n\")\n",
    "print(\"Name is : \" , roger.animal)\n",
    "print(\"Breed is :\" , roger.breed)\n",
    "print(\"Color is :\" , roger.color , end=\"\\n\")\n",
    "\n",
    "print(\"buzo details\\n\")\n",
    "print(\"Name is : \" ,  buzo.animal)\n",
    "print(\"Breed is :\" , buzo.breed)\n",
    "print(\"Color is :\" , buzo.color)"
   ]
  },
  {
   "cell_type": "code",
   "execution_count": 19,
   "id": "27d4e4ac",
   "metadata": {},
   "outputs": [
    {
     "name": "stdout",
     "output_type": "stream",
     "text": [
      "Breed is  pug\n",
      "Color is  yellow\n",
      "Breed is  pug\n",
      "Color is  green\n"
     ]
    }
   ],
   "source": [
    "class dog :\n",
    "    \n",
    "    def __init__(xyz , breed , color):\n",
    "        xyz.breed = breed \n",
    "        xyz.color = color    \n",
    "    \n",
    "    def fun(xyz):\n",
    "        print(\"Breed is \" ,xyz.breed)\n",
    "        print(\"Color is \" ,xyz.color)\n",
    "\n",
    "        \n",
    "roger =  dog(\"pug\"  , \"yellow\")\n",
    "buzo  =  dog(\"pug\"  , \"green\")\n",
    "roger.fun()\n",
    "buzo.fun()"
   ]
  },
  {
   "cell_type": "code",
   "execution_count": null,
   "id": "3ee86e55",
   "metadata": {},
   "outputs": [],
   "source": []
  }
 ],
 "metadata": {
  "kernelspec": {
   "display_name": "Python 3 (ipykernel)",
   "language": "python",
   "name": "python3"
  },
  "language_info": {
   "codemirror_mode": {
    "name": "ipython",
    "version": 3
   },
   "file_extension": ".py",
   "mimetype": "text/x-python",
   "name": "python",
   "nbconvert_exporter": "python",
   "pygments_lexer": "ipython3",
   "version": "3.8.0"
  }
 },
 "nbformat": 4,
 "nbformat_minor": 5
}
