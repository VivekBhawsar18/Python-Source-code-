{
 "cells": [
  {
   "cell_type": "code",
   "execution_count": 8,
   "id": "929da858",
   "metadata": {},
   "outputs": [
    {
     "name": "stdout",
     "output_type": "stream",
     "text": [
      "New function is called and Breed is  pug\n",
      "New function is called and  Color is  yellow\n",
      "New function is called and Breed is  pug\n",
      "New function is called and  Color is  green\n"
     ]
    }
   ],
   "source": [
    "class dog :\n",
    "    \n",
    "    def __init__(xyz , breed , color):\n",
    "        xyz.breed = breed \n",
    "        xyz.color = color    \n",
    "    \n",
    "    def fun(xyz):\n",
    "        print(\"Breed is \" ,xyz.breed)\n",
    "        print(\"Color is \" ,xyz.color)\n",
    "\n",
    "        \n",
    "class dog2(dog):\n",
    "    \n",
    "    def newF(xyz):\n",
    "        print(\"New function is called and Breed is \" ,xyz.breed)\n",
    "        print(\"New function is called and  Color is \" ,xyz.color)    \n",
    "\n",
    "\n",
    "roger =  dog2(\"pug\"  , \"yellow\")\n",
    "buzo  =  dog2(\"pug\"  , \"green\")\n",
    "roger.newF()\n",
    "buzo.newF()"
   ]
  },
  {
   "cell_type": "code",
   "execution_count": null,
   "id": "59a04921",
   "metadata": {},
   "outputs": [],
   "source": []
  }
 ],
 "metadata": {
  "kernelspec": {
   "display_name": "Python 3 (ipykernel)",
   "language": "python",
   "name": "python3"
  },
  "language_info": {
   "codemirror_mode": {
    "name": "ipython",
    "version": 3
   },
   "file_extension": ".py",
   "mimetype": "text/x-python",
   "name": "python",
   "nbconvert_exporter": "python",
   "pygments_lexer": "ipython3",
   "version": "3.8.0"
  }
 },
 "nbformat": 4,
 "nbformat_minor": 5
}
