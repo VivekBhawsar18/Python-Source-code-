{
 "cells": [
  {
   "cell_type": "code",
   "execution_count": 1,
   "id": "23f52c7a",
   "metadata": {},
   "outputs": [
    {
     "name": "stdout",
     "output_type": "stream",
     "text": [
      "Father :  ram\n",
      "Mother :  sita\n"
     ]
    }
   ],
   "source": [
    "# multiple inheritance\n",
    "\n",
    "#base class 1\n",
    "class mother:\n",
    "    mothername = \"sita\"\n",
    "    \n",
    "    def mother(self):\n",
    "        print(self.mothername)\n",
    "    \n",
    "class father:\n",
    "    fathername = \"ram\"\n",
    "    \n",
    "    def father(self):\n",
    "        print(self.fathername)    \n",
    "\n",
    "class son(mother , father):\n",
    "    \n",
    "    def parents(self):\n",
    "        print(\"Father : \" , self.fathername)\n",
    "        print(\"Mother : \" , self.mothername)\n",
    "        \n",
    "obj1 = son()\n",
    "obj1.parents()"
   ]
  },
  {
   "cell_type": "code",
   "execution_count": 6,
   "id": "429dfd5c",
   "metadata": {},
   "outputs": [
    {
     "name": "stdout",
     "output_type": "stream",
     "text": [
      "GrandFather :  <bound method grandfather.grandfather of <__main__.son object at 0x000002721A0E26A0>>\n",
      "Father :  <bound method father.father of <__main__.son object at 0x000002721A0E26A0>>\n",
      "Son :  arjun\n"
     ]
    }
   ],
   "source": [
    "# Multilevel Inheritance \n",
    "\n",
    "# base class\n",
    "\n",
    "class grandfather:\n",
    "    \n",
    "    grandfather = \"Ram das\"\n",
    "    \n",
    "    def grandfather(self):\n",
    "        print(self.grandfather)\n",
    "        \n",
    "class father(grandfather):\n",
    "    father = \"Ram\"\n",
    "    \n",
    "    def father(self):\n",
    "        print(self.father)\n",
    "    \n",
    "class son(father):\n",
    "    \n",
    "    son = \"arjun\"\n",
    "    \n",
    "    def Family(self):\n",
    "        print(\"GrandFather : \" , self.grandfather)\n",
    "        print(\"Father : \"      , self.father)\n",
    "        print(\"Son : \"         , self.son)\n",
    "    \n",
    "obj1 = son()\n",
    "obj1.Family()"
   ]
  },
  {
   "cell_type": "code",
   "execution_count": 12,
   "id": "316de650",
   "metadata": {},
   "outputs": [
    {
     "name": "stdout",
     "output_type": "stream",
     "text": [
      "GrandFather name :  Ram das\n",
      "Father name :  Ram\n",
      "Son name :  Arjun\n"
     ]
    }
   ],
   "source": [
    "# Multilevel Inheritance \n",
    "\n",
    "# base class\n",
    "\n",
    "class grandfather:\n",
    "    \n",
    "    def __init__(self , grandfathername):\n",
    "        self.grandfathername = grandfathername\n",
    "    \n",
    "class father(grandfather):\n",
    "     \n",
    "    def __init__(self , fathername):\n",
    "        self.fathername = fathername\n",
    "        \n",
    "class son(father):\n",
    "     \n",
    "    def __init__(self , sonname , fathername , grandfathername):\n",
    "        self.sonname = sonname\n",
    "        self.fathername = fathername\n",
    "        self.grandfathername = grandfathername\n",
    "    \n",
    "   \n",
    "    def Family(self):\n",
    "        print(\"GrandFather name : \" , self.grandfathername)\n",
    "        print(\"Father name : \" , self.fathername)\n",
    "        print(\"Son name : \" , self.sonname)\n",
    "    \n",
    "obj1 = son(\"Arjun\" , \"Ram\" , \"Ram das\")\n",
    "obj1.Family()"
   ]
  },
  {
   "cell_type": "code",
   "execution_count": 14,
   "id": "c2822c97",
   "metadata": {},
   "outputs": [
    {
     "name": "stdout",
     "output_type": "stream",
     "text": [
      "Parent Class\n",
      "Hello world\n",
      "Hello world\n",
      "Hello world\n"
     ]
    }
   ],
   "source": [
    "# Hierarchical inheritance\n",
    "\n",
    "#base class 1\n",
    "class Parents:\n",
    "    \n",
    "    parentsName = \"Hello world\"\n",
    "    def func4(self):\n",
    "        print(\"Parent Class\")\n",
    "\n",
    "        \n",
    "class Child1(Parents):\n",
    "   \n",
    "    def func1(self):\n",
    "        print(self.parentsName)\n",
    "\n",
    "        \n",
    "class Child2(Parents):\n",
    "    \n",
    "    def func2(self):\n",
    "        print(self.parentsName)\n",
    "        \n",
    "class Child3(Parents):\n",
    "    \n",
    "    def func3(self):\n",
    "        print(self.parentsName)   \n",
    "\n",
    "obj4 = Parents()        \n",
    "obj1 = Child1()\n",
    "obj2 = Child2()\n",
    "obj3 = Child3()\n",
    "\n",
    "obj4.func4()\n",
    "obj1.func1()\n",
    "obj2.func2()\n",
    "obj3.func3()"
   ]
  },
  {
   "cell_type": "code",
   "execution_count": null,
   "id": "70c31426",
   "metadata": {},
   "outputs": [],
   "source": []
  }
 ],
 "metadata": {
  "kernelspec": {
   "display_name": "Python 3 (ipykernel)",
   "language": "python",
   "name": "python3"
  },
  "language_info": {
   "codemirror_mode": {
    "name": "ipython",
    "version": 3
   },
   "file_extension": ".py",
   "mimetype": "text/x-python",
   "name": "python",
   "nbconvert_exporter": "python",
   "pygments_lexer": "ipython3",
   "version": "3.8.0"
  }
 },
 "nbformat": 4,
 "nbformat_minor": 5
}
