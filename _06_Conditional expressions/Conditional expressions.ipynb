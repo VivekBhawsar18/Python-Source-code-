{
 "cells": [
  {
   "cell_type": "code",
   "execution_count": 2,
   "id": "760e15b0",
   "metadata": {},
   "outputs": [
    {
     "name": "stdout",
     "output_type": "stream",
     "text": [
      "10\n",
      "Not eligible\n"
     ]
    }
   ],
   "source": [
    "a = int(input())\n",
    "\n",
    "if a<18 :\n",
    "    print(\"Not eligible\")"
   ]
  },
  {
   "cell_type": "code",
   "execution_count": 3,
   "id": "6f17222f",
   "metadata": {},
   "outputs": [
    {
     "name": "stdout",
     "output_type": "stream",
     "text": [
      "20\n",
      "Eligible\n"
     ]
    }
   ],
   "source": [
    "a = int(input())\n",
    "\n",
    "if a<18 :\n",
    "    print(\"Not eligible\")\n",
    "elif a>50 :\n",
    "    print(\"Age limit exceeds\")\n",
    "else:\n",
    "    print(\"Eligible\")"
   ]
  },
  {
   "cell_type": "code",
   "execution_count": 14,
   "id": "0a87ca6c",
   "metadata": {},
   "outputs": [
    {
     "name": "stdout",
     "output_type": "stream",
     "text": [
      "18\n",
      "Not eligible\n"
     ]
    }
   ],
   "source": [
    "country = input(\"Enter country name :\")\n",
    "\n",
    "\n",
    "if a<=18 : print(\"Not eligible\")\n",
    "elif a>=50 : print(\"Age limit exceeds\")\n",
    "else: print(\"Eligible\")"
   ]
  },
  {
   "cell_type": "code",
   "execution_count": 32,
   "id": "1d4c55f4",
   "metadata": {},
   "outputs": [
    {
     "ename": "IndentationError",
     "evalue": "unindent does not match any outer indentation level (<tokenize>, line 5)",
     "output_type": "error",
     "traceback": [
      "\u001b[1;36m  File \u001b[1;32m<tokenize>:5\u001b[1;36m\u001b[0m\n\u001b[1;33m    if age<=18 : print(\"Not eligible\")\u001b[0m\n\u001b[1;37m    ^\u001b[0m\n\u001b[1;31mIndentationError\u001b[0m\u001b[1;31m:\u001b[0m unindent does not match any outer indentation level\n"
     ]
    }
   ],
   "source": [
    "country = input(\"Enter country name :\")\n",
    "\n",
    "if country == \"india\" : print(\"Eligible\")\n",
    "        age = int(input(\"Enter your age :\"))\n",
    "    if age<=18 : print(\"Not eligible\")\n",
    "    elif age>=50 : print(\"Age limit exceeds\")\n",
    "    else: print(\"Eligible\")\n",
    "else: print(\"Not eligible country name :\" , country)"
   ]
  },
  {
   "cell_type": "code",
   "execution_count": 40,
   "id": "f01c17f7",
   "metadata": {},
   "outputs": [
    {
     "name": "stdout",
     "output_type": "stream",
     "text": [
      "Enter country name :china\n",
      "Not eligible country name : china\n"
     ]
    }
   ],
   "source": [
    "country = input(\"Enter country name :\")\n",
    "\n",
    "if country == \"india\" :\n",
    "    age = int(input(\"Enter your age :\"))\n",
    "    if age<=18 :\n",
    "        print(\"Not eligible\")\n",
    "    elif age>=50 :\n",
    "        print(\"Age limit exceeds\")\n",
    "    else:\n",
    "        print(\"Eligible\")\n",
    "else:\n",
    "    print(\"Not eligible country name :\" , country)"
   ]
  },
  {
   "cell_type": "markdown",
   "id": "2dd49139",
   "metadata": {},
   "source": [
    "# Practice Set"
   ]
  },
  {
   "cell_type": "markdown",
   "id": "7349cfb3",
   "metadata": {},
   "source": [
    "# Q.1 "
   ]
  },
  {
   "cell_type": "code",
   "execution_count": 45,
   "id": "21ee5fb3",
   "metadata": {},
   "outputs": [
    {
     "name": "stdout",
     "output_type": "stream",
     "text": [
      "2\n",
      "3\n",
      "4\n",
      "10\n",
      "The gretest no is :  10\n"
     ]
    }
   ],
   "source": [
    "a = int(input())\n",
    "b = int(input())\n",
    "c = int(input())\n",
    "d = int(input())\n",
    "\n",
    "if a>d :\n",
    "    num1 = a\n",
    "else:\n",
    "    num1 = d\n",
    "    \n",
    "if b>c :\n",
    "    num2 = b\n",
    "else:\n",
    "    num2 = c\n",
    "    \n",
    "if num1>num2:\n",
    "    print(\"The gretest no is : \" , num1)\n",
    "else:\n",
    "    print(\"The gretest no is : \" , num2)"
   ]
  },
  {
   "cell_type": "code",
   "execution_count": null,
   "id": "c9c5a675",
   "metadata": {},
   "outputs": [],
   "source": []
  }
 ],
 "metadata": {
  "kernelspec": {
   "display_name": "Python 3 (ipykernel)",
   "language": "python",
   "name": "python3"
  },
  "language_info": {
   "codemirror_mode": {
    "name": "ipython",
    "version": 3
   },
   "file_extension": ".py",
   "mimetype": "text/x-python",
   "name": "python",
   "nbconvert_exporter": "python",
   "pygments_lexer": "ipython3",
   "version": "3.8.0"
  }
 },
 "nbformat": 4,
 "nbformat_minor": 5
}
